{
  "cells": [
    {
      "cell_type": "markdown",
      "metadata": {
        "id": "490FWZrsRT4e"
      },
      "source": [
        "# Sentiment Analysis Using Simple RNN, LSTM, GRU, Bidirectional RNN\n"
      ]
    },
    {
      "cell_type": "code",
      "execution_count": null,
      "metadata": {
        "colab": {
          "base_uri": "https://localhost:8080/",
          "height": 1000
        },
        "id": "fsjcKzx8Rpfn",
        "outputId": "aae3bdf0-781a-4dfc-aaca-16ee7c5ec339"
      },
      "outputs": [
        {
          "name": "stdout",
          "output_type": "stream",
          "text": [
            "Reading package lists...\n",
            "Building dependency tree...\n",
            "Reading state information...\n",
            "graphviz is already the newest version (2.40.1-2).\n",
            "0 upgraded, 0 newly installed, 0 to remove and 25 not upgraded.\n",
            "Requirement already satisfied: keras in /usr/local/lib/python3.6/dist-packages (2.2.5)\n",
            "Requirement already satisfied: keras-applications>=1.0.8 in /usr/local/lib/python3.6/dist-packages (from keras) (1.0.8)\n",
            "Requirement already satisfied: scipy>=0.14 in /usr/local/lib/python3.6/dist-packages (from keras) (1.4.1)\n",
            "Requirement already satisfied: pyyaml in /usr/local/lib/python3.6/dist-packages (from keras) (3.13)\n",
            "Requirement already satisfied: six>=1.9.0 in /usr/local/lib/python3.6/dist-packages (from keras) (1.12.0)\n",
            "Requirement already satisfied: numpy>=1.9.1 in /usr/local/lib/python3.6/dist-packages (from keras) (1.18.2)\n",
            "Requirement already satisfied: keras-preprocessing>=1.1.0 in /usr/local/lib/python3.6/dist-packages (from keras) (1.1.0)\n",
            "Requirement already satisfied: h5py in /usr/local/lib/python3.6/dist-packages (from keras) (2.10.0)\n",
            "Requirement already satisfied: bokeh in /usr/local/lib/python3.6/dist-packages (1.4.0)\n",
            "Requirement already satisfied: pillow>=4.0 in /usr/local/lib/python3.6/dist-packages (from bokeh) (7.0.0)\n",
            "Requirement already satisfied: Jinja2>=2.7 in /usr/local/lib/python3.6/dist-packages (from bokeh) (2.11.1)\n",
            "Requirement already satisfied: python-dateutil>=2.1 in /usr/local/lib/python3.6/dist-packages (from bokeh) (2.8.1)\n",
            "Requirement already satisfied: PyYAML>=3.10 in /usr/local/lib/python3.6/dist-packages (from bokeh) (3.13)\n",
            "Requirement already satisfied: packaging>=16.8 in /usr/local/lib/python3.6/dist-packages (from bokeh) (20.3)\n",
            "Requirement already satisfied: six>=1.5.2 in /usr/local/lib/python3.6/dist-packages (from bokeh) (1.12.0)\n",
            "Requirement already satisfied: numpy>=1.7.1 in /usr/local/lib/python3.6/dist-packages (from bokeh) (1.18.2)\n",
            "Requirement already satisfied: tornado>=4.3 in /usr/local/lib/python3.6/dist-packages (from bokeh) (4.5.3)\n",
            "Requirement already satisfied: MarkupSafe>=0.23 in /usr/local/lib/python3.6/dist-packages (from Jinja2>=2.7->bokeh) (1.1.1)\n",
            "Requirement already satisfied: pyparsing>=2.0.2 in /usr/local/lib/python3.6/dist-packages (from packaging>=16.8->bokeh) (2.4.6)\n",
            "Collecting git+https://github.com/tla/ipython-hierarchymagic\n",
            "  Cloning https://github.com/tla/ipython-hierarchymagic to /tmp/pip-req-build-e34t6t0i\n",
            "Requirement already satisfied: sphinx in /usr/local/lib/python3.6/dist-packages (from ipython-hierarchymagic==0.1) (1.8.5)\n",
            "Requirement already satisfied: alabaster<0.8,>=0.7 in /usr/local/lib/python3.6/dist-packages (from sphinx->ipython-hierarchymagic==0.1) (0.7.12)\n",
            "Requirement already satisfied: Jinja2>=2.3 in /usr/local/lib/python3.6/dist-packages (from sphinx->ipython-hierarchymagic==0.1) (2.11.1)\n",
            "Requirement already satisfied: packaging in /usr/local/lib/python3.6/dist-packages (from sphinx->ipython-hierarchymagic==0.1) (20.3)\n",
            "Requirement already satisfied: requests>=2.0.0 in /usr/local/lib/python3.6/dist-packages (from sphinx->ipython-hierarchymagic==0.1) (2.21.0)\n",
            "Requirement already satisfied: babel!=2.0,>=1.3 in /usr/local/lib/python3.6/dist-packages (from sphinx->ipython-hierarchymagic==0.1) (2.8.0)\n",
            "Requirement already satisfied: snowballstemmer>=1.1 in /usr/local/lib/python3.6/dist-packages (from sphinx->ipython-hierarchymagic==0.1) (2.0.0)\n",
            "Requirement already satisfied: imagesize in /usr/local/lib/python3.6/dist-packages (from sphinx->ipython-hierarchymagic==0.1) (1.2.0)\n",
            "Requirement already satisfied: docutils>=0.11 in /usr/local/lib/python3.6/dist-packages (from sphinx->ipython-hierarchymagic==0.1) (0.15.2)\n",
            "Requirement already satisfied: sphinxcontrib-websupport in /usr/local/lib/python3.6/dist-packages (from sphinx->ipython-hierarchymagic==0.1) (1.2.1)\n",
            "Requirement already satisfied: six>=1.5 in /usr/local/lib/python3.6/dist-packages (from sphinx->ipython-hierarchymagic==0.1) (1.12.0)\n",
            "Requirement already satisfied: Pygments>=2.0 in /usr/local/lib/python3.6/dist-packages (from sphinx->ipython-hierarchymagic==0.1) (2.1.3)\n",
            "Requirement already satisfied: setuptools in /usr/local/lib/python3.6/dist-packages (from sphinx->ipython-hierarchymagic==0.1) (46.1.3)\n",
            "Requirement already satisfied: MarkupSafe>=0.23 in /usr/local/lib/python3.6/dist-packages (from Jinja2>=2.3->sphinx->ipython-hierarchymagic==0.1) (1.1.1)\n",
            "Requirement already satisfied: pyparsing>=2.0.2 in /usr/local/lib/python3.6/dist-packages (from packaging->sphinx->ipython-hierarchymagic==0.1) (2.4.6)\n",
            "Requirement already satisfied: urllib3<1.25,>=1.21.1 in /usr/local/lib/python3.6/dist-packages (from requests>=2.0.0->sphinx->ipython-hierarchymagic==0.1) (1.24.3)\n",
            "Requirement already satisfied: certifi>=2017.4.17 in /usr/local/lib/python3.6/dist-packages (from requests>=2.0.0->sphinx->ipython-hierarchymagic==0.1) (2019.11.28)\n",
            "Requirement already satisfied: chardet<3.1.0,>=3.0.2 in /usr/local/lib/python3.6/dist-packages (from requests>=2.0.0->sphinx->ipython-hierarchymagic==0.1) (3.0.4)\n",
            "Requirement already satisfied: idna<2.9,>=2.5 in /usr/local/lib/python3.6/dist-packages (from requests>=2.0.0->sphinx->ipython-hierarchymagic==0.1) (2.8)\n",
            "Requirement already satisfied: pytz>=2015.7 in /usr/local/lib/python3.6/dist-packages (from babel!=2.0,>=1.3->sphinx->ipython-hierarchymagic==0.1) (2018.9)\n",
            "Building wheels for collected packages: ipython-hierarchymagic\n",
            "  Building wheel for ipython-hierarchymagic (setup.py): started\n",
            "  Building wheel for ipython-hierarchymagic (setup.py): finished with status 'done'\n",
            "  Created wheel for ipython-hierarchymagic: filename=ipython_hierarchymagic-0.1-cp36-none-any.whl size=5025 sha256=630056bf595a7e12dc32ae3aaf166e75251f1d3077114a474dd26206268513cc\n",
            "  Stored in directory: /tmp/pip-ephem-wheel-cache-v5ak5mk9/wheels/32/77/29/9bb9c3340e84bcdaa481575d1d18e60857fc184ba89a34e5f6\n",
            "Successfully built ipython-hierarchymagic\n",
            "Installing collected packages: ipython-hierarchymagic\n",
            "Successfully installed ipython-hierarchymagic-0.1\n"
          ]
        },
        {
          "name": "stderr",
          "output_type": "stream",
          "text": [
            "\n",
            "WARNING: apt does not have a stable CLI interface. Use with caution in scripts.\n",
            "\n",
            "  Running command git clone -q https://github.com/tla/ipython-hierarchymagic /tmp/pip-req-build-e34t6t0i\n"
          ]
        }
      ],
      "source": [
        "%%bash\n",
        "pip install keras\n",
        "pip install bokeh\n",
        "pip install git+https://github.com/tla/ipython-hierarchymagic"
      ]
    },
    {
      "cell_type": "code",
      "execution_count": null,
      "metadata": {
        "id": "U8mszQ7qR0gs"
      },
      "outputs": [],
      "source": [
        "from bokeh.plotting import figure, show\n",
        "from bokeh.io import output_notebook, push_notebook"
      ]
    },
    {
      "cell_type": "code",
      "execution_count": null,
      "metadata": {
        "id": "vc8M47HnNSVA"
      },
      "outputs": [],
      "source": [
        "output_notebook()"
      ]
    },
    {
      "cell_type": "markdown",
      "metadata": {
        "id": "9qVGCpKztGaS"
      },
      "source": [
        "### Defined Matplot lib for graph plotting."
      ]
    },
    {
      "cell_type": "code",
      "execution_count": null,
      "metadata": {
        "id": "9x7pzKP9tLRd"
      },
      "outputs": [],
      "source": [
        "import matplotlib.pyplot as plt\n",
        "\n",
        "def plot_graphs(history, metric):\n",
        "  plt.plot(history.history[metric])\n",
        "  plt.plot(history.history['val_'+metric], '')\n",
        "  plt.xlabel(\"Epochs\")\n",
        "  plt.ylabel(metric)\n",
        "  plt.legend([metric, 'val_'+metric])\n",
        "  plt.show()"
      ]
    },
    {
      "cell_type": "code",
      "execution_count": null,
      "metadata": {
        "id": "tbj23rw5SXfm"
      },
      "outputs": [],
      "source": [
        "import numpy as np\n",
        "import pandas as pd"
      ]
    },
    {
      "cell_type": "markdown",
      "metadata": {
        "id": "m_OHiSh5Sl4x"
      },
      "source": [
        "## Dataset"
      ]
    },
    {
      "cell_type": "markdown",
      "metadata": {
        "id": "sMJyGX-SpN6U"
      },
      "source": [
        "### 1) Movie Review Data\n",
        "Keras IMDB dataset is used here.This dataset consist of 25,000 movies reviews from IMDB, labeled by sentiment (positive/negative).[Dataset Link](https://keras.io/datasets/#imdb-movie-reviews-sentiment-classification)"
      ]
    },
    {
      "cell_type": "code",
      "execution_count": null,
      "metadata": {
        "id": "eUZXDcDYUd3b"
      },
      "outputs": [],
      "source": [
        "from tensorflow.keras.datasets import imdb"
      ]
    },
    {
      "cell_type": "code",
      "execution_count": null,
      "metadata": {
        "colab": {
          "base_uri": "https://localhost:8080/",
          "height": 126
        },
        "id": "s4nASiKQUxnn",
        "outputId": "dbd6c4d4-7f5a-43df-9d70-8f065314aea7"
      },
      "outputs": [
        {
          "name": "stdout",
          "output_type": "stream",
          "text": [
            "(25000,)\n",
            "(25000,)\n",
            "(25000,)\n",
            "(25000,)\n"
          ]
        }
      ],
      "source": [
        "(x_train, y_train), (x_test, y_test) = imdb.load_data()\n",
        "print(x_train.shape)\n",
        "print(x_test.shape)\n",
        "print(y_train.shape)\n",
        "print(y_test.shape)"
      ]
    },
    {
      "cell_type": "markdown",
      "metadata": {
        "id": "9DxwpnHsGPJV"
      },
      "source": [
        "### Dataset Instances"
      ]
    },
    {
      "cell_type": "code",
      "execution_count": null,
      "metadata": {
        "colab": {
          "base_uri": "https://localhost:8080/",
          "height": 164
        },
        "id": "m43gz-YGuxaN",
        "outputId": "f36e571d-7fd5-4665-95a7-b1b1db3bd9f4"
      },
      "outputs": [
        {
          "name": "stdout",
          "output_type": "stream",
          "text": [
            "REVIEW 1 \t <START> this film was just brilliant casting location scenery story direction everyone's really suited the part they played and you could just imagine being there robert redford's is an amazing actor and now the same being director norman's father came from the same scottish island as myself so i loved the fact there was a real connection with this film the witty remarks throughout the film were great it was just brilliant so much that i bought the film as soon as it was released for retail and would recommend it to everyone to watch and the fly fishing was amazing really cried at the end it was so sad and you know what they say if you cry at a film it must have been good and this definitely was also congratulations to the two little boy's that played the part's of norman and paul they were just brilliant children are often left out of the praising list i think because the stars that play them all grown up are such a big profile for the whole film but these children are amazing and should be praised for what they have done don't you think the whole story was so lovely because it was true and was someone's life after all that was shared with us all\n",
            "REVIEW 2 \t <START> big hair big boobs bad music and a giant safety pin these are the words to best describe this terrible movie i love cheesy horror movies and i've seen hundreds but this had got to be on of the worst ever made the plot is paper thin and ridiculous the acting is an abomination the script is completely laughable the best is the end showdown with the cop and how he worked out who the killer is it's just so damn terribly written the clothes are sickening and funny in equal measures the hair is big lots of boobs bounce men wear those cut tee shirts that show off their stomachs sickening that men actually wore them and the music is just synthesiser trash that plays over and over again in almost every scene there is trashy music boobs and paramedics taking away bodies and the gym still doesn't close for bereavement all joking aside this is a truly bad film whose only charm is to look back on the disaster that was the 80's and have a good old laugh at how bad everything was back then\n",
            "REVIEW 3 \t <START> this has to be one of the worst films of the 1990s when my friends i were watching this film being the target audience it was aimed at we just sat watched the first half an hour with our jaws touching the floor at how bad it really was the rest of the time everyone else in the theatre just started talking to each other leaving or generally crying into their popcorn that they actually paid money they had earnt working to watch this feeble excuse for a film it must have looked like a great idea on paper but on film it looks like no one in the film has a clue what is going on crap acting crap costumes i can't get across how embarrasing this is to watch save yourself an hour a bit of your life\n",
            "REVIEW 4 \t <START> the scots excel at storytelling the traditional sort many years after the event i can still see in my mind's eye an elderly lady my friend's mother retelling the battle of culloden she makes the characters come alive her passion is that of an eye witness one to the events on the sodden heath a mile or so from where she lives br br of course it happened many years before she was born but you wouldn't guess from the way she tells it the same story is told in bars the length and breadth of scotland as i discussed it with a friend one night in mallaig a local cut in to give his version the discussion continued to closing time br br stories passed down like this become part of our being who doesn't remember the stories our parents told us when we were children they become our invisible world and as we grow older they maybe still serve as inspiration or as an emotional reservoir fact and fiction blend with aspiration role models warning stories archetypes magic and mystery br br my name is aonghas like my grandfather and his grandfather before him our protagonist introduces himself to us and also introduces the story that stretches back through generations it produces stories within stories stories that evoke the impenetrable wonder of scotland its rugged mountains shrouded in mists the stuff of legend yet seach'd is rooted in reality this is what gives it its special charm it has a rough beauty and authenticity tempered with some of the finest gaelic singing you will ever hear br br aonghas angus visits his grandfather in hospital shortly before his death he burns with frustration part of him yearns to be in the twenty first century to hang out in glasgow but he is raised on the western shores among a gaelic speaking community br br yet there is a deeper conflict within him he yearns to know the truth the truth behind his grandfather's ancient stories where does fiction end and he wants to know the truth behind the death of his parents br br he is pulled to make a last fateful journey to the summit of one of scotland's most inaccessible mountains can the truth be told or is it all in stories br br in this story about stories we revisit bloody battles poisoned lovers the folklore of old and the sometimes more treacherous folklore of accepted truth in doing so we each connect with angus as he lives the story of his own life br br seachd the inaccessible pinnacle is probably the most honest unpretentious and genuinely beautiful film of scotland ever made like angus i got slightly annoyed with the pretext of hanging stories on more stories but also like angus i forgave this once i saw the 'bigger picture ' forget the box office pastiche of braveheart and its like you might even forego the justly famous dramatisation of the wicker man to see a film that is true to scotland this one is probably unique if you maybe meditate on it deeply enough you might even re evaluate the power of storytelling and the age old question of whether there are some truths that cannot be told but only experienced\n",
            "REVIEW 5 \t <START> worst mistake of my life br br i picked this movie up at target for 5 because i figured hey it's sandler i can get some cheap laughs i was wrong completely wrong mid way through the film all three of my friends were asleep and i was still suffering worst plot worst script worst movie i have ever seen i wanted to hit my head up against a wall for an hour then i'd stop and you know why because it felt damn good upon bashing my head in i stuck that damn movie in the microwave and watched it burn and that felt better than anything else i've ever done it took american psycho army of darkness and kill bill just to get over that crap i hate you sandler for actually going through with this and ruining a whole day of my life\n"
          ]
        }
      ],
      "source": [
        "word_to_id = imdb.get_word_index()\n",
        "INDEX_FROM=3\n",
        "word_to_id = {k:(v+INDEX_FROM) for k,v in word_to_id.items()}\n",
        "word_to_id[\"<PAD>\"] = 0     #Padding\n",
        "word_to_id[\"<START>\"] = 1   #Start Index\n",
        "word_to_id[\"<UNK>\"] = 2     #Unknown Words\n",
        "id_to_word = {value:key for key,value in word_to_id.items()}\n",
        "for i in range(5):\n",
        "  print(\"REVIEW\",str(i+1),\"\\t\",' '.join(id_to_word[id] for id in x_train[i] ))"
      ]
    },
    {
      "cell_type": "markdown",
      "metadata": {
        "id": "RrAs5ePietE8"
      },
      "source": [
        "Dictionary of words"
      ]
    },
    {
      "cell_type": "code",
      "execution_count": null,
      "metadata": {
        "colab": {
          "base_uri": "https://localhost:8080/",
          "height": 35
        },
        "id": "OZgadwClXORP",
        "outputId": "5eb34724-87b7-4e17-fe0a-46266d110327"
      },
      "outputs": [
        {
          "data": {
            "text/plain": [
              "88587"
            ]
          },
          "execution_count": 7,
          "metadata": {},
          "output_type": "execute_result"
        }
      ],
      "source": [
        "dictionary=word_to_id\n",
        "len(dictionary)"
      ]
    },
    {
      "cell_type": "markdown",
      "metadata": {
        "id": "Or_fbxD0lkH4"
      },
      "source": [
        "### 2) Hotel Review Dataset\n",
        "I will also add another dataset to the existing training dataset. This dataset contains 515,000 customer reviews and scoring of 1493 luxury hotels across Europe. Meanwhile, the geographical location of hotels are also provided for further analysis.This dataset is fetched from [booking.com](https://www.booking.com/)"
      ]
    },
    {
      "cell_type": "code",
      "execution_count": null,
      "metadata": {
        "id": "xOj-PMh6NSVB"
      },
      "outputs": [],
      "source": [
        "!gdown --id 1e1SsVct7B6m3GLKlYKHb4ZGy8Ws4K35r --output 515k-hotel-reviews-data-in-europe.zip"
      ]
    },
    {
      "cell_type": "code",
      "execution_count": null,
      "metadata": {
        "id": "bxlrpPUNlIXa"
      },
      "outputs": [],
      "source": [
        "!unzip -q 515k-hotel-reviews-data-in-europe.zip"
      ]
    },
    {
      "cell_type": "code",
      "execution_count": null,
      "metadata": {
        "colab": {
          "base_uri": "https://localhost:8080/",
          "height": 35
        },
        "id": "vEErOOA5lLKS",
        "outputId": "662da624-7a06-41a4-e188-378eb28ad265"
      },
      "outputs": [
        {
          "name": "stdout",
          "output_type": "stream",
          "text": [
            "515k-hotel-reviews-data-in-europe.zip  Hotel_Reviews.csv  sample_data\n"
          ]
        }
      ],
      "source": [
        "!ls"
      ]
    },
    {
      "cell_type": "code",
      "execution_count": null,
      "metadata": {
        "colab": {
          "base_uri": "https://localhost:8080/",
          "height": 35
        },
        "id": "x7rzo0jslOe-",
        "outputId": "d4ff354d-b51c-44c2-9468-5b49680ef2aa"
      },
      "outputs": [
        {
          "data": {
            "text/plain": [
              "(515738, 17)"
            ]
          },
          "execution_count": 8,
          "metadata": {},
          "output_type": "execute_result"
        }
      ],
      "source": [
        "df = pd.read_csv(\"Hotel_Reviews.csv\", parse_dates=['Review_Date'])\n",
        "df.shape"
      ]
    },
    {
      "cell_type": "code",
      "execution_count": null,
      "metadata": {
        "colab": {
          "base_uri": "https://localhost:8080/",
          "height": 695
        },
        "id": "nyE-RDBhle8S",
        "outputId": "0f749e05-f12c-45cd-9a48-72e8de30e1ed"
      },
      "outputs": [
        {
          "data": {
            "text/html": [
              "<div>\n",
              "<style scoped>\n",
              "    .dataframe tbody tr th:only-of-type {\n",
              "        vertical-align: middle;\n",
              "    }\n",
              "\n",
              "    .dataframe tbody tr th {\n",
              "        vertical-align: top;\n",
              "    }\n",
              "\n",
              "    .dataframe thead th {\n",
              "        text-align: right;\n",
              "    }\n",
              "</style>\n",
              "<table border=\"1\" class=\"dataframe\">\n",
              "  <thead>\n",
              "    <tr style=\"text-align: right;\">\n",
              "      <th></th>\n",
              "      <th>Hotel_Address</th>\n",
              "      <th>Additional_Number_of_Scoring</th>\n",
              "      <th>Review_Date</th>\n",
              "      <th>Average_Score</th>\n",
              "      <th>Hotel_Name</th>\n",
              "      <th>Reviewer_Nationality</th>\n",
              "      <th>Negative_Review</th>\n",
              "      <th>Review_Total_Negative_Word_Counts</th>\n",
              "      <th>Total_Number_of_Reviews</th>\n",
              "      <th>Positive_Review</th>\n",
              "      <th>Review_Total_Positive_Word_Counts</th>\n",
              "      <th>Total_Number_of_Reviews_Reviewer_Has_Given</th>\n",
              "      <th>Reviewer_Score</th>\n",
              "      <th>Tags</th>\n",
              "      <th>days_since_review</th>\n",
              "      <th>lat</th>\n",
              "      <th>lng</th>\n",
              "    </tr>\n",
              "  </thead>\n",
              "  <tbody>\n",
              "    <tr>\n",
              "      <th>0</th>\n",
              "      <td>s Gravesandestraat 55 Oost 1092 AA Amsterdam ...</td>\n",
              "      <td>194</td>\n",
              "      <td>2017-08-03</td>\n",
              "      <td>7.7</td>\n",
              "      <td>Hotel Arena</td>\n",
              "      <td>Russia</td>\n",
              "      <td>I am so angry that i made this post available...</td>\n",
              "      <td>397</td>\n",
              "      <td>1403</td>\n",
              "      <td>Only the park outside of the hotel was beauti...</td>\n",
              "      <td>11</td>\n",
              "      <td>7</td>\n",
              "      <td>2.9</td>\n",
              "      <td>[' Leisure trip ', ' Couple ', ' Duplex Double...</td>\n",
              "      <td>0 days</td>\n",
              "      <td>52.360576</td>\n",
              "      <td>4.915968</td>\n",
              "    </tr>\n",
              "    <tr>\n",
              "      <th>1</th>\n",
              "      <td>s Gravesandestraat 55 Oost 1092 AA Amsterdam ...</td>\n",
              "      <td>194</td>\n",
              "      <td>2017-08-03</td>\n",
              "      <td>7.7</td>\n",
              "      <td>Hotel Arena</td>\n",
              "      <td>Ireland</td>\n",
              "      <td>No Negative</td>\n",
              "      <td>0</td>\n",
              "      <td>1403</td>\n",
              "      <td>No real complaints the hotel was great great ...</td>\n",
              "      <td>105</td>\n",
              "      <td>7</td>\n",
              "      <td>7.5</td>\n",
              "      <td>[' Leisure trip ', ' Couple ', ' Duplex Double...</td>\n",
              "      <td>0 days</td>\n",
              "      <td>52.360576</td>\n",
              "      <td>4.915968</td>\n",
              "    </tr>\n",
              "    <tr>\n",
              "      <th>2</th>\n",
              "      <td>s Gravesandestraat 55 Oost 1092 AA Amsterdam ...</td>\n",
              "      <td>194</td>\n",
              "      <td>2017-07-31</td>\n",
              "      <td>7.7</td>\n",
              "      <td>Hotel Arena</td>\n",
              "      <td>Australia</td>\n",
              "      <td>Rooms are nice but for elderly a bit difficul...</td>\n",
              "      <td>42</td>\n",
              "      <td>1403</td>\n",
              "      <td>Location was good and staff were ok It is cut...</td>\n",
              "      <td>21</td>\n",
              "      <td>9</td>\n",
              "      <td>7.1</td>\n",
              "      <td>[' Leisure trip ', ' Family with young childre...</td>\n",
              "      <td>3 days</td>\n",
              "      <td>52.360576</td>\n",
              "      <td>4.915968</td>\n",
              "    </tr>\n",
              "    <tr>\n",
              "      <th>3</th>\n",
              "      <td>s Gravesandestraat 55 Oost 1092 AA Amsterdam ...</td>\n",
              "      <td>194</td>\n",
              "      <td>2017-07-31</td>\n",
              "      <td>7.7</td>\n",
              "      <td>Hotel Arena</td>\n",
              "      <td>United Kingdom</td>\n",
              "      <td>My room was dirty and I was afraid to walk ba...</td>\n",
              "      <td>210</td>\n",
              "      <td>1403</td>\n",
              "      <td>Great location in nice surroundings the bar a...</td>\n",
              "      <td>26</td>\n",
              "      <td>1</td>\n",
              "      <td>3.8</td>\n",
              "      <td>[' Leisure trip ', ' Solo traveler ', ' Duplex...</td>\n",
              "      <td>3 days</td>\n",
              "      <td>52.360576</td>\n",
              "      <td>4.915968</td>\n",
              "    </tr>\n",
              "    <tr>\n",
              "      <th>4</th>\n",
              "      <td>s Gravesandestraat 55 Oost 1092 AA Amsterdam ...</td>\n",
              "      <td>194</td>\n",
              "      <td>2017-07-24</td>\n",
              "      <td>7.7</td>\n",
              "      <td>Hotel Arena</td>\n",
              "      <td>New Zealand</td>\n",
              "      <td>You When I booked with your company on line y...</td>\n",
              "      <td>140</td>\n",
              "      <td>1403</td>\n",
              "      <td>Amazing location and building Romantic setting</td>\n",
              "      <td>8</td>\n",
              "      <td>3</td>\n",
              "      <td>6.7</td>\n",
              "      <td>[' Leisure trip ', ' Couple ', ' Suite ', ' St...</td>\n",
              "      <td>10 days</td>\n",
              "      <td>52.360576</td>\n",
              "      <td>4.915968</td>\n",
              "    </tr>\n",
              "  </tbody>\n",
              "</table>\n",
              "</div>"
            ],
            "text/plain": [
              "                                       Hotel_Address  \\\n",
              "0   s Gravesandestraat 55 Oost 1092 AA Amsterdam ...   \n",
              "1   s Gravesandestraat 55 Oost 1092 AA Amsterdam ...   \n",
              "2   s Gravesandestraat 55 Oost 1092 AA Amsterdam ...   \n",
              "3   s Gravesandestraat 55 Oost 1092 AA Amsterdam ...   \n",
              "4   s Gravesandestraat 55 Oost 1092 AA Amsterdam ...   \n",
              "\n",
              "   Additional_Number_of_Scoring Review_Date  Average_Score   Hotel_Name  \\\n",
              "0                           194  2017-08-03            7.7  Hotel Arena   \n",
              "1                           194  2017-08-03            7.7  Hotel Arena   \n",
              "2                           194  2017-07-31            7.7  Hotel Arena   \n",
              "3                           194  2017-07-31            7.7  Hotel Arena   \n",
              "4                           194  2017-07-24            7.7  Hotel Arena   \n",
              "\n",
              "  Reviewer_Nationality                                    Negative_Review  \\\n",
              "0              Russia    I am so angry that i made this post available...   \n",
              "1             Ireland                                         No Negative   \n",
              "2           Australia    Rooms are nice but for elderly a bit difficul...   \n",
              "3      United Kingdom    My room was dirty and I was afraid to walk ba...   \n",
              "4         New Zealand    You When I booked with your company on line y...   \n",
              "\n",
              "   Review_Total_Negative_Word_Counts  Total_Number_of_Reviews  \\\n",
              "0                                397                     1403   \n",
              "1                                  0                     1403   \n",
              "2                                 42                     1403   \n",
              "3                                210                     1403   \n",
              "4                                140                     1403   \n",
              "\n",
              "                                     Positive_Review  \\\n",
              "0   Only the park outside of the hotel was beauti...   \n",
              "1   No real complaints the hotel was great great ...   \n",
              "2   Location was good and staff were ok It is cut...   \n",
              "3   Great location in nice surroundings the bar a...   \n",
              "4    Amazing location and building Romantic setting    \n",
              "\n",
              "   Review_Total_Positive_Word_Counts  \\\n",
              "0                                 11   \n",
              "1                                105   \n",
              "2                                 21   \n",
              "3                                 26   \n",
              "4                                  8   \n",
              "\n",
              "   Total_Number_of_Reviews_Reviewer_Has_Given  Reviewer_Score  \\\n",
              "0                                           7             2.9   \n",
              "1                                           7             7.5   \n",
              "2                                           9             7.1   \n",
              "3                                           1             3.8   \n",
              "4                                           3             6.7   \n",
              "\n",
              "                                                Tags days_since_review  \\\n",
              "0  [' Leisure trip ', ' Couple ', ' Duplex Double...            0 days   \n",
              "1  [' Leisure trip ', ' Couple ', ' Duplex Double...            0 days   \n",
              "2  [' Leisure trip ', ' Family with young childre...            3 days   \n",
              "3  [' Leisure trip ', ' Solo traveler ', ' Duplex...            3 days   \n",
              "4  [' Leisure trip ', ' Couple ', ' Suite ', ' St...           10 days   \n",
              "\n",
              "         lat       lng  \n",
              "0  52.360576  4.915968  \n",
              "1  52.360576  4.915968  \n",
              "2  52.360576  4.915968  \n",
              "3  52.360576  4.915968  \n",
              "4  52.360576  4.915968  "
            ]
          },
          "execution_count": 9,
          "metadata": {},
          "output_type": "execute_result"
        }
      ],
      "source": [
        "df.head()"
      ]
    },
    {
      "cell_type": "code",
      "execution_count": null,
      "metadata": {
        "id": "5iWYO7gjnVUt"
      },
      "outputs": [],
      "source": [
        "df[\"review\"] = df[\"Negative_Review\"] + df[\"Positive_Review\"]\n",
        "df[\"review_type\"] = df[\"Reviewer_Score\"].apply(\n",
        "  lambda x: \"Negative\" if x < 7 else \"Positive\"\n",
        ")"
      ]
    },
    {
      "cell_type": "code",
      "execution_count": null,
      "metadata": {
        "id": "yHGVM5R_npiw"
      },
      "outputs": [],
      "source": [
        "df = df[[\"review\", \"review_type\"]]"
      ]
    },
    {
      "cell_type": "code",
      "execution_count": null,
      "metadata": {
        "colab": {
          "base_uri": "https://localhost:8080/",
          "height": 72
        },
        "id": "p8RAtWFfnwMC",
        "outputId": "06bb335f-1eb4-4d9d-b056-75409be58375"
      },
      "outputs": [
        {
          "data": {
            "text/plain": [
              "Positive    428887\n",
              "Negative     86851\n",
              "Name: review_type, dtype: int64"
            ]
          },
          "execution_count": 14,
          "metadata": {},
          "output_type": "execute_result"
        }
      ],
      "source": [
        "df.review_type.value_counts()"
      ]
    },
    {
      "cell_type": "code",
      "execution_count": null,
      "metadata": {
        "colab": {
          "base_uri": "https://localhost:8080/",
          "height": 351
        },
        "id": "1-gkHW5in3L3",
        "outputId": "944bc18c-52f6-4512-9197-2bc60e1a9f20"
      },
      "outputs": [
        {
          "data": {
            "image/png": "[encoded data removed]",
            "text/plain": [
              "<Figure size 432x288 with 1 Axes>"
            ]
          },
          "metadata": {
            "needs_background": "light"
          },
          "output_type": "display_data"
        }
      ],
      "source": [
        "import seaborn as sns\n",
        "sns.countplot(\n",
        "  x='review_type',\n",
        "  data=df,\n",
        "  order=df.review_type.value_counts().index\n",
        ")\n",
        "\n",
        "plt.xlabel(\"type\")\n",
        "plt.title(\"Review type\");"
      ]
    },
    {
      "cell_type": "code",
      "execution_count": null,
      "metadata": {
        "colab": {
          "base_uri": "https://localhost:8080/",
          "height": 424
        },
        "id": "0xlMsbLRorBj",
        "outputId": "7991e869-653e-4c61-9d6d-1b4399644d74",
        "scrolled": false
      },
      "outputs": [
        {
          "data": {
            "text/html": [
              "<div>\n",
              "<style scoped>\n",
              "    .dataframe tbody tr th:only-of-type {\n",
              "        vertical-align: middle;\n",
              "    }\n",
              "\n",
              "    .dataframe tbody tr th {\n",
              "        vertical-align: top;\n",
              "    }\n",
              "\n",
              "    .dataframe thead th {\n",
              "        text-align: right;\n",
              "    }\n",
              "</style>\n",
              "<table border=\"1\" class=\"dataframe\">\n",
              "  <thead>\n",
              "    <tr style=\"text-align: right;\">\n",
              "      <th></th>\n",
              "      <th>review</th>\n",
              "      <th>review_type</th>\n",
              "    </tr>\n",
              "  </thead>\n",
              "  <tbody>\n",
              "    <tr>\n",
              "      <th>0</th>\n",
              "      <td>I am so angry that i made this post available...</td>\n",
              "      <td>Negative</td>\n",
              "    </tr>\n",
              "    <tr>\n",
              "      <th>1</th>\n",
              "      <td>No Negative No real complaints the hotel was g...</td>\n",
              "      <td>Positive</td>\n",
              "    </tr>\n",
              "    <tr>\n",
              "      <th>2</th>\n",
              "      <td>Rooms are nice but for elderly a bit difficul...</td>\n",
              "      <td>Positive</td>\n",
              "    </tr>\n",
              "    <tr>\n",
              "      <th>3</th>\n",
              "      <td>My room was dirty and I was afraid to walk ba...</td>\n",
              "      <td>Negative</td>\n",
              "    </tr>\n",
              "    <tr>\n",
              "      <th>4</th>\n",
              "      <td>You When I booked with your company on line y...</td>\n",
              "      <td>Negative</td>\n",
              "    </tr>\n",
              "    <tr>\n",
              "      <th>...</th>\n",
              "      <td>...</td>\n",
              "      <td>...</td>\n",
              "    </tr>\n",
              "    <tr>\n",
              "      <th>515733</th>\n",
              "      <td>no trolly or staff to help you take the lugga...</td>\n",
              "      <td>Positive</td>\n",
              "    </tr>\n",
              "    <tr>\n",
              "      <th>515734</th>\n",
              "      <td>The hotel looks like 3 but surely not 4  Brea...</td>\n",
              "      <td>Negative</td>\n",
              "    </tr>\n",
              "    <tr>\n",
              "      <th>515735</th>\n",
              "      <td>The ac was useless It was a hot week in vienn...</td>\n",
              "      <td>Negative</td>\n",
              "    </tr>\n",
              "    <tr>\n",
              "      <th>515736</th>\n",
              "      <td>No Negative The rooms are enormous and really ...</td>\n",
              "      <td>Positive</td>\n",
              "    </tr>\n",
              "    <tr>\n",
              "      <th>515737</th>\n",
              "      <td>I was in 3rd floor It didn t work Free Wife  ...</td>\n",
              "      <td>Positive</td>\n",
              "    </tr>\n",
              "  </tbody>\n",
              "</table>\n",
              "<p>515738 rows × 2 columns</p>\n",
              "</div>"
            ],
            "text/plain": [
              "                                                   review review_type\n",
              "0        I am so angry that i made this post available...    Negative\n",
              "1       No Negative No real complaints the hotel was g...    Positive\n",
              "2        Rooms are nice but for elderly a bit difficul...    Positive\n",
              "3        My room was dirty and I was afraid to walk ba...    Negative\n",
              "4        You When I booked with your company on line y...    Negative\n",
              "...                                                   ...         ...\n",
              "515733   no trolly or staff to help you take the lugga...    Positive\n",
              "515734   The hotel looks like 3 but surely not 4  Brea...    Negative\n",
              "515735   The ac was useless It was a hot week in vienn...    Negative\n",
              "515736  No Negative The rooms are enormous and really ...    Positive\n",
              "515737   I was in 3rd floor It didn t work Free Wife  ...    Positive\n",
              "\n",
              "[515738 rows x 2 columns]"
            ]
          },
          "execution_count": 16,
          "metadata": {},
          "output_type": "execute_result"
        }
      ],
      "source": [
        "df"
      ]
    },
    {
      "cell_type": "markdown",
      "metadata": {
        "id": "pZY-T6fnfkrL"
      },
      "source": [
        "## Data Preprocessing"
      ]
    },
    {
      "cell_type": "markdown",
      "metadata": {
        "id": "XEjBbAbk-OvI"
      },
      "source": [
        "Blancing the hotel review dataset"
      ]
    },
    {
      "cell_type": "code",
      "execution_count": null,
      "metadata": {
        "id": "9TaGX1M1-NyV"
      },
      "outputs": [],
      "source": [
        "positive_reviews = df[df.review_type == \"Positive\"]\n",
        "negative_reviews = df[df.review_type == \"Negative\"]"
      ]
    },
    {
      "cell_type": "code",
      "execution_count": null,
      "metadata": {
        "id": "JJyU8T99-xNl"
      },
      "outputs": [],
      "source": [
        "RANDOM_SEED = 42\n",
        "positive_df = positive_reviews.sample(n=len(negative_reviews), random_state=RANDOM_SEED)\n",
        "negative_df = negative_reviews"
      ]
    },
    {
      "cell_type": "code",
      "execution_count": null,
      "metadata": {
        "colab": {
          "base_uri": "https://localhost:8080/",
          "height": 424
        },
        "id": "bO0jutrn_Nr4",
        "outputId": "5a9ac7dd-4292-445e-dc07-410c90ab2776"
      },
      "outputs": [
        {
          "data": {
            "text/html": [
              "<div>\n",
              "<style scoped>\n",
              "    .dataframe tbody tr th:only-of-type {\n",
              "        vertical-align: middle;\n",
              "    }\n",
              "\n",
              "    .dataframe tbody tr th {\n",
              "        vertical-align: top;\n",
              "    }\n",
              "\n",
              "    .dataframe thead th {\n",
              "        text-align: right;\n",
              "    }\n",
              "</style>\n",
              "<table border=\"1\" class=\"dataframe\">\n",
              "  <thead>\n",
              "    <tr style=\"text-align: right;\">\n",
              "      <th></th>\n",
              "      <th>review</th>\n",
              "      <th>review_type</th>\n",
              "    </tr>\n",
              "  </thead>\n",
              "  <tbody>\n",
              "    <tr>\n",
              "      <th>0</th>\n",
              "      <td>Nothing not to like  Location was excellent r...</td>\n",
              "      <td>Positive</td>\n",
              "    </tr>\n",
              "    <tr>\n",
              "      <th>1</th>\n",
              "      <td>Replenishment of supplies in room toiletries ...</td>\n",
              "      <td>Positive</td>\n",
              "    </tr>\n",
              "    <tr>\n",
              "      <th>2</th>\n",
              "      <td>No Negative The views</td>\n",
              "      <td>Positive</td>\n",
              "    </tr>\n",
              "    <tr>\n",
              "      <th>3</th>\n",
              "      <td>Could do with biscuits and a complimentary wa...</td>\n",
              "      <td>Positive</td>\n",
              "    </tr>\n",
              "    <tr>\n",
              "      <th>4</th>\n",
              "      <td>Bar prices expensive and mini bar very expens...</td>\n",
              "      <td>Positive</td>\n",
              "    </tr>\n",
              "    <tr>\n",
              "      <th>...</th>\n",
              "      <td>...</td>\n",
              "      <td>...</td>\n",
              "    </tr>\n",
              "    <tr>\n",
              "      <th>173697</th>\n",
              "      <td>Wifi Location No tea or coffee in the room Ra...</td>\n",
              "      <td>Negative</td>\n",
              "    </tr>\n",
              "    <tr>\n",
              "      <th>173698</th>\n",
              "      <td>Everything Nothing</td>\n",
              "      <td>Negative</td>\n",
              "    </tr>\n",
              "    <tr>\n",
              "      <th>173699</th>\n",
              "      <td>no free parking the room was in another build...</td>\n",
              "      <td>Negative</td>\n",
              "    </tr>\n",
              "    <tr>\n",
              "      <th>173700</th>\n",
              "      <td>The hotel looks like 3 but surely not 4  Brea...</td>\n",
              "      <td>Negative</td>\n",
              "    </tr>\n",
              "    <tr>\n",
              "      <th>173701</th>\n",
              "      <td>The ac was useless It was a hot week in vienn...</td>\n",
              "      <td>Negative</td>\n",
              "    </tr>\n",
              "  </tbody>\n",
              "</table>\n",
              "<p>173702 rows × 2 columns</p>\n",
              "</div>"
            ],
            "text/plain": [
              "                                                   review review_type\n",
              "0        Nothing not to like  Location was excellent r...    Positive\n",
              "1        Replenishment of supplies in room toiletries ...    Positive\n",
              "2                                   No Negative The views    Positive\n",
              "3        Could do with biscuits and a complimentary wa...    Positive\n",
              "4        Bar prices expensive and mini bar very expens...    Positive\n",
              "...                                                   ...         ...\n",
              "173697   Wifi Location No tea or coffee in the room Ra...    Negative\n",
              "173698                                 Everything Nothing    Negative\n",
              "173699   no free parking the room was in another build...    Negative\n",
              "173700   The hotel looks like 3 but surely not 4  Brea...    Negative\n",
              "173701   The ac was useless It was a hot week in vienn...    Negative\n",
              "\n",
              "[173702 rows x 2 columns]"
            ]
          },
          "execution_count": 16,
          "metadata": {},
          "output_type": "execute_result"
        }
      ],
      "source": [
        "review_df = positive_df.append(negative_df).reset_index(drop=True)\n",
        "review_df"
      ]
    },
    {
      "cell_type": "code",
      "execution_count": null,
      "metadata": {
        "colab": {
          "base_uri": "https://localhost:8080/",
          "height": 295
        },
        "id": "xDObodq2_o2n",
        "outputId": "1d12ca91-0ca1-4ddd-d96c-9e1154c8590f"
      },
      "outputs": [
        {
          "data": {
            "image/png": "[encoded data removed]",
            "text/plain": [
              "<Figure size 432x288 with 1 Axes>"
            ]
          },
          "metadata": {
            "needs_background": "light"
          },
          "output_type": "display_data"
        }
      ],
      "source": [
        "sns.countplot(\n",
        "  x='review_type',\n",
        "  data=review_df,\n",
        "  order=review_df.review_type.value_counts().index\n",
        ")\n",
        "\n",
        "plt.xlabel(\"type\")\n",
        "plt.title(\"Review type (resampled)\");"
      ]
    },
    {
      "cell_type": "markdown",
      "metadata": {
        "id": "HcPO_hLNtG1f"
      },
      "source": [
        "Function to remove punctuations."
      ]
    },
    {
      "cell_type": "code",
      "execution_count": null,
      "metadata": {
        "id": "Xvmmk1a9tTs4"
      },
      "outputs": [],
      "source": [
        "from string import punctuation\n",
        "def rem_punc(s):\n",
        "  r=''.join([c for c in s if c not in punctuation])\n",
        "  return r"
      ]
    },
    {
      "cell_type": "markdown",
      "metadata": {
        "id": "DAEC9I2kruOW"
      },
      "source": [
        "Function to encode sentence using the word dictionary."
      ]
    },
    {
      "cell_type": "code",
      "execution_count": null,
      "metadata": {
        "id": "jg1pse-ortCF"
      },
      "outputs": [],
      "source": [
        "def enc_sen(s):\n",
        "  e=[1] #start\n",
        "  wl=s.lower().strip().split(\" \")\n",
        "  for w in wl:\n",
        "    if w in dictionary:\n",
        "      e.append(dictionary[w])\n",
        "    else:\n",
        "      e.append(2) #Unknown\n",
        "  return e"
      ]
    },
    {
      "cell_type": "markdown",
      "metadata": {
        "id": "MMYnVlg42JHL"
      },
      "source": [
        "Function to encode labels { 1->Positive 0->Negative }."
      ]
    },
    {
      "cell_type": "code",
      "execution_count": null,
      "metadata": {
        "id": "2t2jM0Uu2Xac"
      },
      "outputs": [],
      "source": [
        "def enc_labels(l):\n",
        "  d={'Positive':1,'Negative':0}\n",
        "  a=np.array([d[x] for x in l])\n",
        "  return a"
      ]
    },
    {
      "cell_type": "markdown",
      "metadata": {
        "id": "YF2zgJ2huATj"
      },
      "source": [
        "Review dataframe to list."
      ]
    },
    {
      "cell_type": "code",
      "execution_count": null,
      "metadata": {
        "id": "60NJcXCrqMoc"
      },
      "outputs": [],
      "source": [
        "rev_list=list(review_df['review'])"
      ]
    },
    {
      "cell_type": "code",
      "execution_count": null,
      "metadata": {
        "id": "2PD8a7on4Msz"
      },
      "outputs": [],
      "source": [
        "lab_list=list(review_df['review_type'])"
      ]
    },
    {
      "cell_type": "markdown",
      "metadata": {
        "id": "EhONxGETuJzq"
      },
      "source": [
        "Removing Punctuation"
      ]
    },
    {
      "cell_type": "code",
      "execution_count": null,
      "metadata": {
        "colab": {
          "base_uri": "https://localhost:8080/",
          "height": 128
        },
        "id": "6hd8vF5FrPiZ",
        "outputId": "61d4b884-e8e1-4eab-e3a2-e0b77ff17247"
      },
      "outputs": [
        {
          "name": "stdout",
          "output_type": "stream",
          "text": [
            " Nothing not to like  Location was excellent rooms were extremely comfortable well maintained Facilities within the hotel were great especially the lounge which was a perfect place to relax after a day of sightseeing \n",
            " Replenishment of supplies in room toiletries tea coffee water etc was inconsistent Service in the Club Room was poor Hotel baggage labels left sticky residue on suitcase handles  very comfortable bed excellent air con great location problem with TV was promptly fixed \n",
            "No Negative The views\n",
            " Could do with biscuits and a complimentary water bottle in the room  Clean and comfortable room Kettle and selection of tea bags provided Excellent Wifi connection Croissants were nice I brought my own tea bags as tea in all the hotels is rubbish Near good restaurants including those serving Halal food Queensway underground is the nearest tube station Had lunch in Little Persia very good Near a park for walk and jog Be prepared to pay a deposit which you do get back in couple of days \n",
            " Bar prices expensive and mini bar very expensive but it is a hotel in London so not surprised  Beds comfy staff lovely food amazing room spacious quiet spotless \n"
          ]
        }
      ],
      "source": [
        "rev_list=[rem_punc(x) for x in rev_list]\n",
        "print(\"\\n\".join(rev_list[:5])) #Top five reviews in review list"
      ]
    },
    {
      "cell_type": "markdown",
      "metadata": {
        "id": "XaPj7x_1vxK4"
      },
      "source": [
        "Encoding Sentences"
      ]
    },
    {
      "cell_type": "code",
      "execution_count": null,
      "metadata": {
        "colab": {
          "base_uri": "https://localhost:8080/",
          "height": 164
        },
        "id": "r3EK9Lcnv1zG",
        "outputId": "dcd81eb5-ce3a-4a6a-cd92-6c2a0e7e7277"
      },
      "outputs": [
        {
          "data": {
            "text/plain": [
              "array([list([1, 164, 24, 8, 40, 2, 1622, 16, 321, 4340, 71, 576, 3969, 73, 10302, 15413, 746, 4, 1455, 71, 87, 262, 4, 17269, 63, 16, 6, 404, 273, 8, 5206, 103, 6, 251, 7, 48763]),\n",
              "       list([1, 2, 7, 9786, 11, 673, 73095, 3384, 4099, 1093, 525, 16, 5562, 2469, 11, 4, 1333, 673, 16, 338, 1455, 15655, 17510, 317, 13492, 29028, 23, 17797, 5931, 2, 55, 3969, 1445, 321, 945, 2697, 87, 1622, 439, 19, 248, 16, 6287, 8533]),\n",
              "       list([1, 57, 1566, 4, 2692]), ...,\n",
              "       list([1, 57, 879, 7047, 4, 673, 16, 11, 160, 1430, 359, 8, 6389, 4, 1430, 18, 6121, 42, 9496, 2, 1058, 673]),\n",
              "       list([1, 4, 1455, 272, 40, 342, 21, 1348, 24, 470, 2, 6121, 16, 608, 5, 75, 188, 908, 808, 11]),\n",
              "       list([1, 4, 31157, 16, 3506, 12, 16, 6, 893, 1269, 11, 9042, 5, 12, 64, 520, 53, 893, 2, 1123])],\n",
              "      dtype=object)"
            ]
          },
          "execution_count": 23,
          "metadata": {},
          "output_type": "execute_result"
        }
      ],
      "source": [
        "enc_rev=np.array([enc_sen(m) for m in rev_list])\n",
        "enc_rev"
      ]
    },
    {
      "cell_type": "markdown",
      "metadata": {
        "id": "nT8tY79U3xBO"
      },
      "source": [
        "Encoding Labels"
      ]
    },
    {
      "cell_type": "code",
      "execution_count": null,
      "metadata": {
        "colab": {
          "base_uri": "https://localhost:8080/",
          "height": 35
        },
        "id": "-6np5YwN0aw5",
        "outputId": "7c2e7fe1-4089-4096-eeb0-3ec8c0cc49ee"
      },
      "outputs": [
        {
          "data": {
            "text/plain": [
              "array([1, 1, 1, ..., 0, 0, 0])"
            ]
          },
          "execution_count": 24,
          "metadata": {},
          "output_type": "execute_result"
        }
      ],
      "source": [
        "enc_labs=enc_labels(lab_list)\n",
        "enc_labs"
      ]
    },
    {
      "cell_type": "markdown",
      "metadata": {
        "id": "3xT5Xmou4mdB"
      },
      "source": [
        "Train-Test Split"
      ]
    },
    {
      "cell_type": "code",
      "execution_count": null,
      "metadata": {
        "id": "f40Px6ir4qbv"
      },
      "outputs": [],
      "source": [
        "from sklearn.model_selection import train_test_split\n",
        "x_train1, x_test1, y_train1, y_test1 = train_test_split(\n",
        "    enc_rev,\n",
        "    enc_labs,\n",
        "    test_size=.1,\n",
        "    random_state=RANDOM_SEED\n",
        "  )"
      ]
    },
    {
      "cell_type": "code",
      "execution_count": null,
      "metadata": {
        "colab": {
          "base_uri": "https://localhost:8080/",
          "height": 90
        },
        "id": "GwJvV3uW5rCk",
        "outputId": "de35c46f-e1ad-4eb2-caed-383dba07ed2f"
      },
      "outputs": [
        {
          "name": "stdout",
          "output_type": "stream",
          "text": [
            "(156331,)\n",
            "(17371,)\n",
            "(156331,)\n",
            "(17371,)\n"
          ]
        }
      ],
      "source": [
        "print(x_train1.shape)\n",
        "print(x_test1.shape)\n",
        "print(y_train1.shape)\n",
        "print(y_test1.shape)"
      ]
    },
    {
      "cell_type": "code",
      "execution_count": null,
      "metadata": {
        "colab": {
          "base_uri": "https://localhost:8080/",
          "height": 90
        },
        "id": "6fsc0LAn5wyX",
        "outputId": "d7f524a4-01ae-4f97-accb-26d76c91edf5"
      },
      "outputs": [
        {
          "name": "stdout",
          "output_type": "stream",
          "text": [
            "(25000,)\n",
            "(25000,)\n",
            "(25000,)\n",
            "(25000,)\n"
          ]
        }
      ],
      "source": [
        "print(x_train.shape)\n",
        "print(x_test.shape)\n",
        "print(y_train.shape)\n",
        "print(y_test.shape)"
      ]
    },
    {
      "cell_type": "markdown",
      "metadata": {
        "id": "EnjiuqX1DRfM"
      },
      "source": [
        "Concatenating the test and train sets of both datasets"
      ]
    },
    {
      "cell_type": "code",
      "execution_count": null,
      "metadata": {
        "id": "XtAmZOIv7ZZE"
      },
      "outputs": [],
      "source": [
        "x_train=np.concatenate((x_train,x_train1))\n",
        "x_test=np.concatenate((x_test,x_test1))\n",
        "y_train=np.concatenate((y_train,y_train1))\n",
        "y_test=np.concatenate((y_test,y_test1))"
      ]
    },
    {
      "cell_type": "code",
      "execution_count": null,
      "metadata": {
        "colab": {
          "base_uri": "https://localhost:8080/",
          "height": 90
        },
        "id": "7j01XBYiDBGI",
        "outputId": "acddae67-34a1-442d-cf78-37edadd9a6ac"
      },
      "outputs": [
        {
          "name": "stdout",
          "output_type": "stream",
          "text": [
            "(181331,)\n",
            "(42371,)\n",
            "(181331,)\n",
            "(42371,)\n"
          ]
        }
      ],
      "source": [
        "print(x_train.shape)\n",
        "print(x_test.shape)\n",
        "print(y_train.shape)\n",
        "print(y_test.shape)"
      ]
    },
    {
      "cell_type": "markdown",
      "metadata": {
        "id": "ZX1BiA4lqIN9"
      },
      "source": [
        "The RNN takes sequences of constant length. This length is the `words_limit` which is defined to be 100. Since the reviews differ heavily in terms of lengths, I'm trimming each review to its first 200 words. If reviews are shorter than 200 words they will be padded with zeros."
      ]
    },
    {
      "cell_type": "code",
      "execution_count": null,
      "metadata": {
        "id": "SrM7FlK_iSsf"
      },
      "outputs": [],
      "source": [
        "words_limit=200"
      ]
    },
    {
      "cell_type": "code",
      "execution_count": null,
      "metadata": {
        "id": "G5rn3G_dmRN_"
      },
      "outputs": [],
      "source": [
        "import random\n",
        "import json\n",
        "from six.moves import range\n",
        "import six"
      ]
    },
    {
      "cell_type": "markdown",
      "metadata": {
        "id": "pH8X3ava6n8W"
      },
      "source": [
        "Function to pad sequences to word_limit"
      ]
    },
    {
      "cell_type": "code",
      "execution_count": null,
      "metadata": {
        "id": "1xGzfrLNfj5R"
      },
      "outputs": [],
      "source": [
        "def pad_sequences(sequences, maxlen=None):\n",
        "\n",
        "    dtype='int32';padding='pre';truncating='pre';value=0.\n",
        "    num_samples = len(sequences)\n",
        "\n",
        "    lengths = []\n",
        "    sample_shape = ()\n",
        "    flag = True\n",
        "\n",
        "    # take the sample shape from the first non empty sequence\n",
        "    # checking for consistency in the main loop below.\n",
        "\n",
        "    for x in sequences:\n",
        "        try:\n",
        "            lengths.append(len(x))\n",
        "            if flag and len(x):\n",
        "                sample_shape = np.asarray(x).shape[1:]\n",
        "                flag = False\n",
        "        except TypeError:\n",
        "            raise ValueError('`sequences` must be a list of iterables. '\n",
        "                             'Found non-iterable: ' + str(x))\n",
        "\n",
        "    if maxlen is None:\n",
        "        maxlen = np.max(lengths)\n",
        "\n",
        "    is_dtype_str = np.issubdtype(dtype, np.str_) or np.issubdtype(dtype, np.unicode_)\n",
        "\n",
        "    x = np.full((num_samples, maxlen) + sample_shape, value, dtype=dtype)\n",
        "    for idx, s in enumerate(sequences):\n",
        "        if not len(s):\n",
        "            continue  # empty list/array was found\n",
        "        if truncating == 'pre':\n",
        "            trunc = s[-maxlen:]\n",
        "        elif truncating == 'post':\n",
        "            trunc = s[:maxlen]\n",
        "        trunc = np.asarray(trunc, dtype=dtype)\n",
        "\n",
        "        if padding == 'post':\n",
        "            x[idx, :len(trunc)] = trunc\n",
        "        elif padding == 'pre':\n",
        "            x[idx, -len(trunc):] = trunc\n",
        "    return x"
      ]
    },
    {
      "cell_type": "markdown",
      "metadata": {
        "id": "ZLwJXcDIf9wF"
      },
      "source": [
        "Padding the sequences"
      ]
    },
    {
      "cell_type": "code",
      "execution_count": null,
      "metadata": {
        "colab": {
          "base_uri": "https://localhost:8080/",
          "height": 53
        },
        "id": "eDWse0BSfj_E",
        "outputId": "1125c8e4-09c2-4f74-fa3a-da442af19f8a"
      },
      "outputs": [
        {
          "name": "stdout",
          "output_type": "stream",
          "text": [
            "train shape: (181331, 200)\n",
            "test shape: (42371, 200)\n"
          ]
        }
      ],
      "source": [
        "x_train_seq = pad_sequences(x_train, maxlen=words_limit)\n",
        "x_test_seq = pad_sequences(x_test, maxlen=words_limit)\n",
        "\n",
        "print('train shape:', x_train_seq.shape)\n",
        "print('test shape:', x_test_seq.shape)"
      ]
    },
    {
      "cell_type": "code",
      "execution_count": null,
      "metadata": {
        "colab": {
          "base_uri": "https://localhost:8080/",
          "height": 144
        },
        "id": "tlkZTs3kvvT7",
        "outputId": "f5047fbe-0b92-450a-f20d-d361e7c751ad"
      },
      "outputs": [
        {
          "data": {
            "text/plain": [
              "array([[   5,   25,  100, ...,   19,  178,   32],\n",
              "       [   0,    0,    0, ...,   16,  145,   95],\n",
              "       [   0,    0,    0, ...,    7,  129,  113],\n",
              "       ...,\n",
              "       [   0,    0,    0, ...,   30,   57, 1123],\n",
              "       [   0,    0,    0, ...,  525,    2, 1622],\n",
              "       [   0,    0,    0, ..., 3477,  313, 1622]])"
            ]
          },
          "execution_count": 34,
          "metadata": {},
          "output_type": "execute_result"
        }
      ],
      "source": [
        "x_train_seq"
      ]
    },
    {
      "cell_type": "markdown",
      "metadata": {
        "id": "vnFjkUXIVjU9"
      },
      "source": [
        "Keras Models and Layers"
      ]
    },
    {
      "cell_type": "code",
      "execution_count": null,
      "metadata": {
        "id": "LZKhJIEhO_p9"
      },
      "outputs": [],
      "source": [
        "from tensorflow.keras.models import Sequential, Model\n",
        "from tensorflow.keras.layers import Embedding, SimpleRNN, Dense, Dropout, Activation, Input, LSTM, GRU, Bidirectional"
      ]
    },
    {
      "cell_type": "markdown",
      "metadata": {
        "id": "Bhs9axrqxfAf"
      },
      "source": [
        "## RNN Model for Sentiment Analysis\n"
      ]
    },
    {
      "cell_type": "code",
      "execution_count": null,
      "metadata": {
        "id": "g7fpxHE3iY0W"
      },
      "outputs": [],
      "source": [
        "rnn_input = Input(shape=(words_limit,))\n",
        "embedding = Embedding(len(dictionary), 128, input_length=words_limit)(rnn_input)\n",
        "simple_rnn = SimpleRNN(128)(embedding)\n",
        "dropout = Dropout(0.4)(simple_rnn)\n",
        "dense = Dense(1)(dropout)\n",
        "activation = Activation('sigmoid')(dense)\n",
        "model1 = Model(rnn_input, activation)\n"
      ]
    },
    {
      "cell_type": "code",
      "execution_count": null,
      "metadata": {
        "colab": {
          "base_uri": "https://localhost:8080/",
          "height": 380
        },
        "id": "yrqP4S8_kq_H",
        "outputId": "256b987e-5c3e-4e32-e880-36009603f000"
      },
      "outputs": [
        {
          "name": "stdout",
          "output_type": "stream",
          "text": [
            "Model: \"model\"\n",
            "_________________________________________________________________\n",
            "Layer (type)                 Output Shape              Param #   \n",
            "=================================================================\n",
            "input_1 (InputLayer)         [(None, 200)]             0         \n",
            "_________________________________________________________________\n",
            "embedding (Embedding)        (None, 200, 128)          11339136  \n",
            "_________________________________________________________________\n",
            "simple_rnn (SimpleRNN)       (None, 128)               32896     \n",
            "_________________________________________________________________\n",
            "dropout (Dropout)            (None, 128)               0         \n",
            "_________________________________________________________________\n",
            "dense (Dense)                (None, 1)                 129       \n",
            "_________________________________________________________________\n",
            "activation (Activation)      (None, 1)                 0         \n",
            "=================================================================\n",
            "Total params: 11,372,161\n",
            "Trainable params: 11,372,161\n",
            "Non-trainable params: 0\n",
            "_________________________________________________________________\n"
          ]
        }
      ],
      "source": [
        "model1.summary()"
      ]
    },
    {
      "cell_type": "markdown",
      "metadata": {
        "id": "xZ6xspYRPpG5"
      },
      "source": [
        "Optimizer: Adam and Loss Model: Binary CrossEntropy"
      ]
    },
    {
      "cell_type": "code",
      "execution_count": null,
      "metadata": {
        "id": "utnMKHdjkuDQ"
      },
      "outputs": [],
      "source": [
        "model1.compile(optimizer='adam', loss='binary_crossentropy', metrics=['accuracy'])"
      ]
    },
    {
      "cell_type": "markdown",
      "metadata": {
        "id": "KeXU774_NSVJ"
      },
      "source": [
        "Creating checkpoints to save best model"
      ]
    },
    {
      "cell_type": "code",
      "execution_count": null,
      "metadata": {
        "id": "UwOYfAUiNSVJ"
      },
      "outputs": [],
      "source": [
        "import os\n",
        "checkpoint_path_rnn = \"rnn_model.h5\"\n",
        "checkpoint_dir = os.path.dirname(checkpoint_path_rnn)\n",
        "\n",
        "\n",
        "cp_callback = tf.keras.callbacks.ModelCheckpoint(filepath=checkpoint_path_rnn,\n",
        "                                                 save_weights_only=False,\n",
        "                                                 save_best_only=True,\n",
        "                                                 verbose=1)"
      ]
    },
    {
      "cell_type": "code",
      "execution_count": null,
      "metadata": {
        "colab": {
          "base_uri": "https://localhost:8080/",
          "height": 53
        },
        "id": "m4ZgxJIalJrr",
        "outputId": "b6dcd7e8-3da3-45f7-847e-7ec92a96c533"
      },
      "outputs": [
        {
          "name": "stdout",
          "output_type": "stream",
          "text": [
            "Train on 181331 samples, validate on 42371 samples\n",
            "Epoch 1/10\n",
            "181312/181331 [============================>.] - ETA: 0s - loss: 0.5314 - accuracy: 0.7380\n",
            "Epoch 00001: val_loss improved from inf to 0.53880, saving model to rnn_model.h5\n",
            "181331/181331 [==============================] - 2008s 11ms/sample - loss: 0.5314 - accuracy: 0.7380 - val_loss: 0.5388 - val_accuracy: 0.7474\n",
            "Epoch 2/10\n",
            "181312/181331 [============================>.] - ETA: 0s - loss: 0.5589 - accuracy: 0.7168\n",
            "Epoch 00002: val_loss did not improve from 0.53880\n",
            "181331/181331 [==============================] - 2519s 14ms/sample - loss: 0.5589 - accuracy: 0.7168 - val_loss: 0.5438 - val_accuracy: 0.7356\n",
            "Epoch 3/10\n",
            "181312/181331 [============================>.] - ETA: 0s - loss: 0.5136 - accuracy: 0.7545\n",
            "Epoch 00003: val_loss improved from 0.53880 to 0.53625, saving model to rnn_model.h5\n",
            "181331/181331 [==============================] - 1498s 8ms/sample - loss: 0.5136 - accuracy: 0.7545 - val_loss: 0.5362 - val_accuracy: 0.7462\n",
            "Epoch 4/10\n",
            "181312/181331 [============================>.] - ETA: 0s - loss: 0.4945 - accuracy: 0.7686\n",
            "Epoch 00004: val_loss improved from 0.53625 to 0.50575, saving model to rnn_model.h5\n",
            "181331/181331 [==============================] - 1338s 7ms/sample - loss: 0.4945 - accuracy: 0.7686 - val_loss: 0.5057 - val_accuracy: 0.7785\n",
            "Epoch 5/10\n",
            "181312/181331 [============================>.] - ETA: 0s - loss: 0.4771 - accuracy: 0.7810\n",
            "Epoch 00005: val_loss did not improve from 0.50575\n",
            "181331/181331 [==============================] - 1217s 7ms/sample - loss: 0.4771 - accuracy: 0.7810 - val_loss: 0.5820 - val_accuracy: 0.7157\n",
            "Epoch 6/10\n",
            "181312/181331 [============================>.] - ETA: 0s - loss: 0.4911 - accuracy: 0.7704\n",
            "Epoch 00006: val_loss did not improve from 0.50575\n",
            "181331/181331 [==============================] - 1212s 7ms/sample - loss: 0.4911 - accuracy: 0.7703 - val_loss: 0.5206 - val_accuracy: 0.7420\n",
            "Epoch 7/10\n",
            "181312/181331 [============================>.] - ETA: 0s - loss: 0.5125 - accuracy: 0.7556\n",
            "Epoch 00007: val_loss did not improve from 0.50575\n",
            "181331/181331 [==============================] - 1216s 7ms/sample - loss: 0.5125 - accuracy: 0.7556 - val_loss: 0.6114 - val_accuracy: 0.6485\n",
            "Epoch 8/10\n",
            "181312/181331 [============================>.] - ETA: 0s - loss: 0.5010 - accuracy: 0.7639\n",
            "Epoch 00008: val_loss did not improve from 0.50575\n",
            "181331/181331 [==============================] - 1673s 9ms/sample - loss: 0.5010 - accuracy: 0.7639 - val_loss: 0.5409 - val_accuracy: 0.7357\n",
            "Epoch 9/10\n",
            "181312/181331 [============================>.] - ETA: 0s - loss: 0.4656 - accuracy: 0.7892\n",
            "Epoch 00009: val_loss did not improve from 0.50575\n",
            "181331/181331 [==============================] - 2028s 11ms/sample - loss: 0.4655 - accuracy: 0.7893 - val_loss: 0.5529 - val_accuracy: 0.7389\n",
            "Epoch 10/10\n",
            "181312/181331 [============================>.] - ETA: 0s - loss: 0.4706 - accuracy: 0.7888\n",
            "Epoch 00010: val_loss did not improve from 0.50575\n",
            "181331/181331 [==============================] - 1870s 10ms/sample - loss: 0.4706 - accuracy: 0.7888 - val_loss: 0.5353 - val_accuracy: 0.7391\n"
          ]
        }
      ],
      "source": [
        "history=model1.fit(x_train_seq, y_train, batch_size=32, epochs=10, validation_data=(x_test_seq, y_test),callbacks=[cp_callback])"
      ]
    },
    {
      "cell_type": "markdown",
      "metadata": {
        "id": "tMSpXO74NSVJ"
      },
      "source": [
        "## Performance Measure of the model"
      ]
    },
    {
      "cell_type": "code",
      "execution_count": null,
      "metadata": {
        "colab": {
          "base_uri": "https://localhost:8080/",
          "height": 35
        },
        "id": "zHIEepZ1Tw3k",
        "outputId": "d9b80d66-6bef-4ec4-ee4d-9a20384ff63c"
      },
      "outputs": [
        {
          "data": {
            "text/plain": [
              "dict_keys(['loss', 'accuracy', 'val_loss', 'val_accuracy'])"
            ]
          },
          "execution_count": 48,
          "metadata": {},
          "output_type": "execute_result"
        }
      ],
      "source": [
        "history.history.keys()"
      ]
    },
    {
      "cell_type": "code",
      "execution_count": null,
      "metadata": {
        "id": "6APb1VKUNSVJ",
        "outputId": "0014a89f-d17f-4401-b09c-22c1dd0c76d1"
      },
      "outputs": [
        {
          "name": "stdout",
          "output_type": "stream",
          "text": [
            "[0.531369426853029, 0.5588998254588157, 0.5135641423637293, 0.4945417375003434, 0.4770536645718926, 0.49114742403947986, 0.5124615855987231, 0.5010117735360587, 0.4655440109622781, 0.47058699263674547]\n",
            "[0.738026, 0.71678865, 0.7544932, 0.76858896, 0.7810082, 0.7703371, 0.7556127, 0.7639124, 0.7892583, 0.788773]\n",
            "[0.5388001862942647, 0.5437785323440827, 0.5362465779150731, 0.5057486512125803, 0.5820401028962372, 0.5206168404107097, 0.6113965009132738, 0.5409165925396495, 0.5529002354977892, 0.5352788440472921]\n",
            "[0.74744517, 0.73559743, 0.74617076, 0.7785042, 0.71574897, 0.7420406, 0.6484624, 0.73571545, 0.7389488, 0.7391376]\n"
          ]
        }
      ],
      "source": [
        "for j in history.history.keys():\n",
        "    print(history.history[j])"
      ]
    },
    {
      "cell_type": "code",
      "execution_count": null,
      "metadata": {
        "id": "RqgHYkxqNSVK",
        "outputId": "25292101-f694-4198-ace2-bf350bac2b89"
      },
      "outputs": [
        {
          "data": {
            "image/png": "[encoded data removed]",
            "text/plain": [
              "<Figure size 432x288 with 1 Axes>"
            ]
          },
          "metadata": {
            "needs_background": "light"
          },
          "output_type": "display_data"
        }
      ],
      "source": [
        "plot_graphs(history,'loss')"
      ]
    },
    {
      "cell_type": "code",
      "execution_count": null,
      "metadata": {
        "id": "kwQet1tbNSVK",
        "outputId": "77403ba7-3623-45b0-9a62-69e4d26cd00f"
      },
      "outputs": [
        {
          "data": {
            "image/png": "[encoded data removed]",
            "text/plain": [
              "<Figure size 432x288 with 1 Axes>"
            ]
          },
          "metadata": {
            "needs_background": "light"
          },
          "output_type": "display_data"
        }
      ],
      "source": [
        "plot_graphs(history,'accuracy')"
      ]
    },
    {
      "cell_type": "code",
      "execution_count": null,
      "metadata": {
        "colab": {
          "base_uri": "https://localhost:8080/",
          "height": 71
        },
        "id": "zIwtTxhCT2FQ",
        "outputId": "cd1ba83a-7a87-48cf-b4f2-4615fc0508e5"
      },
      "outputs": [
        {
          "name": "stderr",
          "output_type": "stream",
          "text": [
            "BokehDeprecationWarning: 'legend' keyword is deprecated, use explicit 'legend_label', 'legend_field', or 'legend_group' keywords instead\n",
            "BokehDeprecationWarning: 'legend' keyword is deprecated, use explicit 'legend_label', 'legend_field', or 'legend_group' keywords instead\n"
          ]
        },
        {
          "data": {
            "text/html": [
              "<div style=\"display: table;\"><div style=\"display: table-row;\"><div style=\"display: table-cell;\"><b title=\"bokeh.models.renderers.GlyphRenderer\">GlyphRenderer</b>(</div><div style=\"display: table-cell;\">id&nbsp;=&nbsp;'1051', <span id=\"1063\" style=\"cursor: pointer;\">&hellip;)</span></div></div><div class=\"1062\" style=\"display: none;\"><div style=\"display: table-cell;\"></div><div style=\"display: table-cell;\">data_source&nbsp;=&nbsp;ColumnDataSource(id='1048', ...),</div></div><div class=\"1062\" style=\"display: none;\"><div style=\"display: table-cell;\"></div><div style=\"display: table-cell;\">glyph&nbsp;=&nbsp;Line(id='1049', ...),</div></div><div class=\"1062\" style=\"display: none;\"><div style=\"display: table-cell;\"></div><div style=\"display: table-cell;\">hover_glyph&nbsp;=&nbsp;None,</div></div><div class=\"1062\" style=\"display: none;\"><div style=\"display: table-cell;\"></div><div style=\"display: table-cell;\">js_event_callbacks&nbsp;=&nbsp;{},</div></div><div class=\"1062\" style=\"display: none;\"><div style=\"display: table-cell;\"></div><div style=\"display: table-cell;\">js_property_callbacks&nbsp;=&nbsp;{},</div></div><div class=\"1062\" style=\"display: none;\"><div style=\"display: table-cell;\"></div><div style=\"display: table-cell;\">level&nbsp;=&nbsp;'glyph',</div></div><div class=\"1062\" style=\"display: none;\"><div style=\"display: table-cell;\"></div><div style=\"display: table-cell;\">muted&nbsp;=&nbsp;False,</div></div><div class=\"1062\" style=\"display: none;\"><div style=\"display: table-cell;\"></div><div style=\"display: table-cell;\">muted_glyph&nbsp;=&nbsp;None,</div></div><div class=\"1062\" style=\"display: none;\"><div style=\"display: table-cell;\"></div><div style=\"display: table-cell;\">name&nbsp;=&nbsp;None,</div></div><div class=\"1062\" style=\"display: none;\"><div style=\"display: table-cell;\"></div><div style=\"display: table-cell;\">nonselection_glyph&nbsp;=&nbsp;Line(id='1050', ...),</div></div><div class=\"1062\" style=\"display: none;\"><div style=\"display: table-cell;\"></div><div style=\"display: table-cell;\">selection_glyph&nbsp;=&nbsp;None,</div></div><div class=\"1062\" style=\"display: none;\"><div style=\"display: table-cell;\"></div><div style=\"display: table-cell;\">subscribed_events&nbsp;=&nbsp;[],</div></div><div class=\"1062\" style=\"display: none;\"><div style=\"display: table-cell;\"></div><div style=\"display: table-cell;\">tags&nbsp;=&nbsp;[],</div></div><div class=\"1062\" style=\"display: none;\"><div style=\"display: table-cell;\"></div><div style=\"display: table-cell;\">view&nbsp;=&nbsp;CDSView(id='1052', ...),</div></div><div class=\"1062\" style=\"display: none;\"><div style=\"display: table-cell;\"></div><div style=\"display: table-cell;\">visible&nbsp;=&nbsp;True,</div></div><div class=\"1062\" style=\"display: none;\"><div style=\"display: table-cell;\"></div><div style=\"display: table-cell;\">x_range_name&nbsp;=&nbsp;'default',</div></div><div class=\"1062\" style=\"display: none;\"><div style=\"display: table-cell;\"></div><div style=\"display: table-cell;\">y_range_name&nbsp;=&nbsp;'default')</div></div></div>\n",
              "<script>\n",
              "(function() {\n",
              "  var expanded = false;\n",
              "  var ellipsis = document.getElementById(\"1063\");\n",
              "  ellipsis.addEventListener(\"click\", function() {\n",
              "    var rows = document.getElementsByClassName(\"1062\");\n",
              "    for (var i = 0; i < rows.length; i++) {\n",
              "      var el = rows[i];\n",
              "      el.style.display = expanded ? \"none\" : \"table-row\";\n",
              "    }\n",
              "    ellipsis.innerHTML = expanded ? \"&hellip;)\" : \"&lsaquo;&lsaquo;&lsaquo;\";\n",
              "    expanded = !expanded;\n",
              "  });\n",
              "})();\n",
              "</script>\n"
            ],
            "text/plain": [
              "GlyphRenderer(id='1051', ...)"
            ]
          },
          "execution_count": 57,
          "metadata": {},
          "output_type": "execute_result"
        }
      ],
      "source": [
        "p = figure(title=\"Loss History\", x_axis_label='Time', y_axis_label='Loss')\n",
        "range(len(history.history['val_loss']))\n",
        "p.line(range(len(history.history['val_loss'])), history.history['val_loss'],\n",
        "       legend=\"Val. Loss\", line_width=2, line_color='orange')\n",
        "p.line(range(len(history.history['loss'])), history.history['loss'],\n",
        "       legend=\"Loss\", line_width=2, line_color='blue')"
      ]
    },
    {
      "cell_type": "code",
      "execution_count": null,
      "metadata": {
        "id": "GeysWoXwNSVK"
      },
      "outputs": [],
      "source": [
        "output_notebook()\n",
        "show(p)"
      ]
    },
    {
      "cell_type": "code",
      "execution_count": null,
      "metadata": {
        "id": "Df39mu6bNSVK"
      },
      "outputs": [],
      "source": [
        "p = figure(title=\"Accuracy History\", x_axis_label='Time', y_axis_label='Loss')\n",
        "p.line(range(len(history.history['val_accuracy'])), history.history['val_accuracy'],\n",
        "       legend=\"Val. Acc\", line_width=2, line_color='orange')\n",
        "p.line(range(len(history.history['accuracy'])), history.history['accuracy'],\n",
        "       legend=\"Acc\", line_width=2, line_color='blue')\n",
        "output_notebook()\n",
        "show(p)"
      ]
    },
    {
      "cell_type": "markdown",
      "metadata": {
        "id": "SsfqNMdLNSVK"
      },
      "source": [
        "## Loading the Model"
      ]
    },
    {
      "cell_type": "code",
      "execution_count": null,
      "metadata": {
        "id": "4WqdiCKLNSVK"
      },
      "outputs": [],
      "source": [
        "Loaded_model1 = tf.keras.models.load_model(\n",
        "    checkpoint_path_rnn\n",
        ")"
      ]
    },
    {
      "cell_type": "markdown",
      "metadata": {
        "id": "wZFRvw5RUQp-"
      },
      "source": [
        "## Loss Score and Accuracy"
      ]
    },
    {
      "cell_type": "code",
      "execution_count": null,
      "metadata": {
        "colab": {
          "base_uri": "https://localhost:8080/",
          "height": 72
        },
        "id": "f-SiWS3jRY95",
        "outputId": "59a1ff3f-9d12-4c8a-cf0a-485fc2d3b7d7"
      },
      "outputs": [
        {
          "name": "stdout",
          "output_type": "stream",
          "text": [
            "Loss Score:  0.5057486512125803\n",
            "Accuracy:  0.7785042\n"
          ]
        }
      ],
      "source": [
        "score, acc = Loaded_model1.evaluate(x_test_seq, y_test, batch_size=32, verbose=0)\n",
        "print(\"Loss Score: \",score)\n",
        "print(\"Accuracy: \",acc)"
      ]
    },
    {
      "cell_type": "markdown",
      "metadata": {
        "id": "bAGy10_-NSVK"
      },
      "source": [
        "## Confusion Matrix"
      ]
    },
    {
      "cell_type": "code",
      "execution_count": null,
      "metadata": {
        "id": "j7_cNuaNNSVK",
        "outputId": "a439f3e1-3805-47ca-d66f-08ec900fd346"
      },
      "outputs": [
        {
          "data": {
            "image/png": "[encoded data removed]",
            "text/plain": [
              "<Figure size 576x576 with 2 Axes>"
            ]
          },
          "metadata": {
            "needs_background": "light"
          },
          "output_type": "display_data"
        }
      ],
      "source": [
        "y_pred=Loaded_model1.predict(x_test_seq)\n",
        "y_pred=[1 if x>=0.5 else 0 for x in y_pred]\n",
        "con_mat = tf.math.confusion_matrix(labels=y_test, predictions=y_pred).numpy()\n",
        "con_mat_norm = np.around(con_mat.astype('float') / con_mat.sum(axis=1)[:, np.newaxis], decimals=2)\n",
        "con_mat_df = pd.DataFrame(con_mat_norm,\n",
        "                     index = ['POSITIVE','NEGATIVE'],\n",
        "                     columns = ['POSITIVE','NEGATIVE'])\n",
        "figure = plt.figure(figsize=(8, 8))\n",
        "sns.heatmap(con_mat_df, annot=True,cmap=plt.cm.Blues)\n",
        "plt.tight_layout()\n",
        "plt.ylabel('True label')\n",
        "plt.xlabel('Predicted label')\n",
        "plt.show()"
      ]
    }
  ],
  "metadata": {
    "accelerator": "TPU",
    "colab": {
      "provenance": []
    },
    "kernelspec": {
      "display_name": "Python 3",
      "language": "python",
      "name": "python3"
    },
    "language_info": {
      "codemirror_mode": {
        "name": "ipython",
        "version": 3
      },
      "file_extension": ".py",
      "mimetype": "text/x-python",
      "name": "python",
      "nbconvert_exporter": "python",
      "pygments_lexer": "ipython3",
      "version": "3.7.6"
    }
  },
  "nbformat": 4,
  "nbformat_minor": 0
}